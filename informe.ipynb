{
 "cells": [
  {
   "cell_type": "markdown",
   "id": "b2e91ff1",
   "metadata": {},
   "source": [
    "Para este ejercicio es necesario entrenar un modelo para detectar actividad de wireShark que corresponda a un ataque ARP Spoofing.\n",
    "\n"
   ]
  },
  {
   "cell_type": "markdown",
   "id": "9ce2e8a6",
   "metadata": {},
   "source": [
    "### Marco Teorico:\n",
    "El Address Resolution Protocol (ARP) es un protocolo fundamental en redes de área local (LAN), cuya función principal es resolver direcciones IP en direcciones físicas (MAC) correspondientes. Cuando un dispositivo dentro de una red desea comunicarse con otro dispositivo conocido por su dirección IP, utiliza ARP para solicitar la dirección MAC asociada. Esta información se almacena en la tabla ARP del sistema durante un período determinado.\n",
    "\n",
    "#### Vurnelabilidades de ARP:\n",
    "\n",
    "ARP fue diseñado sin mecanismos de autenticación, lo que implica que cualquier host en la red puede enviar respuestas ARP, incluso si estas no han sido solicitadas. Esta carencia de validación representa una vulnerabilidad crítica que puede ser explotada mediante ataques de suplantación de identidad a nivel de red.\n",
    "\n",
    "#### Ataques ARP Spoofing:\n",
    "\n",
    "El ARP Spoofing, también conocido como ARP Poisoning, es una técnica de ataque en la cual un agente malicioso envía respuestas ARP falsificadas a una red local. El objetivo es asociar su dirección MAC con la dirección IP de otro dispositivo legítimo (por ejemplo, un enrutador o servidor), logrando así desviar el tráfico de red hacia su propio dispositivo.\n",
    "\n",
    "El proceso puede resumirse en los siguientes pasos:\n",
    "\n",
    "1. El atacante transmite paquetes ARP forjados en la red, reclamando que su dirección MAC corresponde a la IP de un dispositivo confiable.\n",
    "\n",
    "2. Los dispositivos en la red actualizan sus tablas ARP con esta información errónea.\n",
    "\n",
    "3. A partir de ese momento, el tráfico destinado a la IP legítima es redirigido al atacante.\n",
    "\n",
    "Este tipo de ataque permite al adversario realizar acciones como interceptar información sensible, modificar datos en tránsito o denegar servicios, en lo que se clasifica como un ataque Man-In-The-Middle (MITM).\n"
   ]
  },
  {
   "cell_type": "markdown",
   "id": "b5e41331",
   "metadata": {},
   "source": [
    "### Conjunto de Datos\n",
    "\n",
    "Una de las principales dificultades de este ejercicio radica en la obtención de un conjunto de datos adecuado para entrenar el modelo. Si bien es posible generar datos de manera artificial utilizando herramientas como **Wireshark**, esto implicaría la simulación controlada de un ataque ARP Spoofing, además de una clasificación manual precisa del tráfico capturado, lo cual puede resultar complejo y propenso a errores.\n",
    "\n",
    "No obstante, en la plataforma **Kaggle** se identificó un conjunto de datos previamente recopilado con Wireshark, cuyo propósito está alineado con el de este proyecto. Este conjunto incluye diversos tipos de ataques, aunque el modelo propuesto se entrenará exclusivamente para la detección de **ataques de suplantación ARP (ARP Spoofing)**.\n",
    "[Cyber Attack Dataset (ARP, SYN, Ping Flood)](https://www.kaggle.com/datasets/aleksandarraki/cyber-attack-dataset-arp-syn-ping-flood)\n",
    "\n",
    "Sin embargo, tras un análisis preliminar, se observó que este primer dataset presentaba una **desproporción significativa entre tráfico normal y tráfico malicioso**, lo que podría afectar negativamente el rendimiento del modelo, al dificultar su capacidad para aprender patrones representativos del ataque.\n",
    "\n",
    "Por esta razón, se optó por utilizar un segundo conjunto de datos, también disponible en Kaggle, el cual está **específicamente orientado a ataques de tipo ARP Spoofing**. Este dataset no solo ofrece una mayor cantidad de muestras relevantes, sino que también incluye una estructura más rica en atributos, lo cual resulta beneficioso para el proceso de entrenamiento del modelo de clasificación.\n",
    "\n",
    "#### Dataset utilizado:\n",
    "\n",
    "[ARP Spoofing-based MITM Attack Dataset](https://www.kaggle.com/datasets/mizanunswcyber/arp-spoofing-based-mitm-attack-dataset)\n",
    "\n"
   ]
  },
  {
   "cell_type": "markdown",
   "id": "6665ca16",
   "metadata": {},
   "source": [
    "### Explorando el dataset:\n",
    "\n",
    "Acontinuacion vamos a cargar nuestro dataset y a explorar sus caracteristicas. Como forma, columnas, tipos de datos, etc."
   ]
  },
  {
   "cell_type": "code",
   "execution_count": 1,
   "id": "eeb2b73c",
   "metadata": {},
   "outputs": [
    {
     "name": "stderr",
     "output_type": "stream",
     "text": [
      "/home/turing/docs/ARP-Spoofing-Clasificator/.venv/lib/python3.11/site-packages/tqdm/auto.py:21: TqdmWarning: IProgress not found. Please update jupyter and ipywidgets. See https://ipywidgets.readthedocs.io/en/stable/user_install.html\n",
      "  from .autonotebook import tqdm as notebook_tqdm\n"
     ]
    },
    {
     "name": "stdout",
     "output_type": "stream",
     "text": [
      "Direccion de los archivos: /home/turing/.cache/kagglehub/datasets/mizanunswcyber/arp-spoofing-based-mitm-attack-dataset/versions/1\n"
     ]
    }
   ],
   "source": [
    "# cargamos el archivo CSV desde KaggleHub a una variable de tipo DataFrame de Pandas\n",
    "\n",
    "import os\n",
    "import pandas as pd\n",
    "import kagglehub\n",
    "\n",
    "path = kagglehub.dataset_download(\"mizanunswcyber/arp-spoofing-based-mitm-attack-dataset\")\n",
    "print(\"Direccion de los archivos:\", path)\n",
    "\n",
    "target_filename = \"All_Labelled.csv\"\n",
    "\n",
    "target_file_path = os.path.join(path, target_filename)\n",
    "\n",
    "df = pd.read_csv(target_file_path)"
   ]
  },
  {
   "cell_type": "code",
   "execution_count": 2,
   "id": "ce8a65cf",
   "metadata": {},
   "outputs": [
    {
     "name": "stdout",
     "output_type": "stream",
     "text": [
      "Primeras filas del DataFrame:\n",
      "   src_port  dst_port  protocol  ip_version  vlan_id  tunnel_id  \\\n",
      "0     56343       443         6           4        0          0   \n",
      "1         0         0         2           4        0          0   \n",
      "\n",
      "   bidirectional_first_seen_ms  bidirectional_last_seen_ms  \\\n",
      "0                 1.666040e+12                1.666040e+12   \n",
      "1                 1.666040e+12                1.666040e+12   \n",
      "\n",
      "   bidirectional_duration_ms  bidirectional_packets  ...  application_name  \\\n",
      "0                        904                     20  ...               TLS   \n",
      "1                        231                      2  ...              IGMP   \n",
      "\n",
      "   application_category_name  application_is_guessed  application_confidence  \\\n",
      "0                        Web                       0                       6   \n",
      "1                    Network                       0                       6   \n",
      "\n",
      "   requested_server_name                client_fingerprint  \\\n",
      "0     apicom.netatmo.net  bb32cf215dd58fdee6573e65933e6c55   \n",
      "1     apicom.netatmo.net  bb32cf215dd58fdee6573e65933e6c55   \n",
      "\n",
      "   server_fingerprint  user_agent  content_type   Label  \n",
      "0                 NaN         NaN           NaN  normal  \n",
      "1                 NaN         NaN           NaN  normal  \n",
      "\n",
      "[2 rows x 79 columns]\n"
     ]
    }
   ],
   "source": [
    "# Mostramos las primeras filas del DataFrame\n",
    "print(\"Primeras filas del DataFrame:\")\n",
    "print(df.head(2))\n"
   ]
  },
  {
   "cell_type": "code",
   "execution_count": 3,
   "id": "a5b909d2",
   "metadata": {},
   "outputs": [
    {
     "name": "stdout",
     "output_type": "stream",
     "text": [
      "\n",
      "Columnas del DataFrame:\n",
      "Index(['src_port', 'dst_port', 'protocol', 'ip_version', 'vlan_id',\n",
      "       'tunnel_id', 'bidirectional_first_seen_ms',\n",
      "       'bidirectional_last_seen_ms', 'bidirectional_duration_ms',\n",
      "       'bidirectional_packets', 'bidirectional_bytes', 'src2dst_first_seen_ms',\n",
      "       'src2dst_last_seen_ms', 'src2dst_duration_ms', 'src2dst_packets',\n",
      "       'src2dst_bytes', 'dst2src_first_seen_ms', 'dst2src_last_seen_ms',\n",
      "       'dst2src_duration_ms', 'dst2src_packets', 'dst2src_bytes',\n",
      "       'bidirectional_min_ps', 'bidirectional_mean_ps',\n",
      "       'bidirectional_stddev_ps', 'bidirectional_max_ps', 'src2dst_min_ps',\n",
      "       'src2dst_mean_ps', 'src2dst_stddev_ps', 'src2dst_max_ps',\n",
      "       'dst2src_min_ps', 'dst2src_mean_ps', 'dst2src_stddev_ps',\n",
      "       'dst2src_max_ps', 'bidirectional_min_piat_ms',\n",
      "       'bidirectional_mean_piat_ms', 'bidirectional_stddev_piat_ms',\n",
      "       'bidirectional_max_piat_ms', 'src2dst_min_piat_ms',\n",
      "       'src2dst_mean_piat_ms', 'src2dst_stddev_piat_ms', 'src2dst_max_piat_ms',\n",
      "       'dst2src_min_piat_ms', 'dst2src_mean_piat_ms', 'dst2src_stddev_piat_ms',\n",
      "       'dst2src_max_piat_ms', 'bidirectional_syn_packets',\n",
      "       'bidirectional_cwr_packets', 'bidirectional_ece_packets',\n",
      "       'bidirectional_urg_packets', 'bidirectional_ack_packets',\n",
      "       'bidirectional_psh_packets', 'bidirectional_rst_packets',\n",
      "       'bidirectional_fin_packets', 'src2dst_syn_packets',\n",
      "       'src2dst_cwr_packets', 'src2dst_ece_packets', 'src2dst_urg_packets',\n",
      "       'src2dst_ack_packets', 'src2dst_psh_packets', 'src2dst_rst_packets',\n",
      "       'src2dst_fin_packets', 'dst2src_syn_packets', 'dst2src_cwr_packets',\n",
      "       'dst2src_ece_packets', 'dst2src_urg_packets', 'dst2src_ack_packets',\n",
      "       'dst2src_psh_packets', 'dst2src_rst_packets', 'dst2src_fin_packets',\n",
      "       'application_name', 'application_category_name',\n",
      "       'application_is_guessed', 'application_confidence',\n",
      "       'requested_server_name', 'client_fingerprint', 'server_fingerprint',\n",
      "       'user_agent', 'content_type', 'Label'],\n",
      "      dtype='object')\n"
     ]
    }
   ],
   "source": [
    "# Mostramos las columnas del DataFrame\n",
    "print(\"\\nColumnas del DataFrame:\")\n",
    "print(df.columns)"
   ]
  },
  {
   "cell_type": "code",
   "execution_count": 4,
   "id": "393a13c8",
   "metadata": {},
   "outputs": [
    {
     "name": "stdout",
     "output_type": "stream",
     "text": [
      "\n",
      "Número de filas y columnas del DataFrame:\n",
      "(74343, 79)\n"
     ]
    }
   ],
   "source": [
    "\n",
    "# Mostramos el número de filas y columnas del DataFrame\n",
    "print(\"\\nNúmero de filas y columnas del DataFrame:\")\n",
    "print(df.shape)"
   ]
  },
  {
   "cell_type": "code",
   "execution_count": 5,
   "id": "15e329cb",
   "metadata": {},
   "outputs": [
    {
     "name": "stdout",
     "output_type": "stream",
     "text": [
      "\n",
      "Información general del DataFrame:\n",
      "<class 'pandas.core.frame.DataFrame'>\n",
      "RangeIndex: 74343 entries, 0 to 74342\n",
      "Data columns (total 79 columns):\n",
      " #   Column                        Non-Null Count  Dtype  \n",
      "---  ------                        --------------  -----  \n",
      " 0   src_port                      74343 non-null  int64  \n",
      " 1   dst_port                      74343 non-null  int64  \n",
      " 2   protocol                      74343 non-null  int64  \n",
      " 3   ip_version                    74343 non-null  int64  \n",
      " 4   vlan_id                       74343 non-null  int64  \n",
      " 5   tunnel_id                     74343 non-null  int64  \n",
      " 6   bidirectional_first_seen_ms   74343 non-null  float64\n",
      " 7   bidirectional_last_seen_ms    74343 non-null  float64\n",
      " 8   bidirectional_duration_ms     74343 non-null  int64  \n",
      " 9   bidirectional_packets         74343 non-null  int64  \n",
      " 10  bidirectional_bytes           74343 non-null  int64  \n",
      " 11  src2dst_first_seen_ms         74343 non-null  float64\n",
      " 12  src2dst_last_seen_ms          74343 non-null  float64\n",
      " 13  src2dst_duration_ms           74343 non-null  int64  \n",
      " 14  src2dst_packets               74343 non-null  int64  \n",
      " 15  src2dst_bytes                 74343 non-null  int64  \n",
      " 16  dst2src_first_seen_ms         74343 non-null  float64\n",
      " 17  dst2src_last_seen_ms          74343 non-null  float64\n",
      " 18  dst2src_duration_ms           74343 non-null  int64  \n",
      " 19  dst2src_packets               74343 non-null  int64  \n",
      " 20  dst2src_bytes                 74343 non-null  int64  \n",
      " 21  bidirectional_min_ps          74343 non-null  int64  \n",
      " 22  bidirectional_mean_ps         74343 non-null  float64\n",
      " 23  bidirectional_stddev_ps       74343 non-null  float64\n",
      " 24  bidirectional_max_ps          74343 non-null  int64  \n",
      " 25  src2dst_min_ps                74343 non-null  int64  \n",
      " 26  src2dst_mean_ps               74343 non-null  float64\n",
      " 27  src2dst_stddev_ps             74343 non-null  float64\n",
      " 28  src2dst_max_ps                74343 non-null  int64  \n",
      " 29  dst2src_min_ps                74343 non-null  int64  \n",
      " 30  dst2src_mean_ps               74343 non-null  float64\n",
      " 31  dst2src_stddev_ps             74343 non-null  float64\n",
      " 32  dst2src_max_ps                74343 non-null  int64  \n",
      " 33  bidirectional_min_piat_ms     74343 non-null  int64  \n",
      " 34  bidirectional_mean_piat_ms    74343 non-null  float64\n",
      " 35  bidirectional_stddev_piat_ms  74343 non-null  float64\n",
      " 36  bidirectional_max_piat_ms     74343 non-null  int64  \n",
      " 37  src2dst_min_piat_ms           74343 non-null  int64  \n",
      " 38  src2dst_mean_piat_ms          74343 non-null  float64\n",
      " 39  src2dst_stddev_piat_ms        74343 non-null  float64\n",
      " 40  src2dst_max_piat_ms           74343 non-null  int64  \n",
      " 41  dst2src_min_piat_ms           74343 non-null  int64  \n",
      " 42  dst2src_mean_piat_ms          74343 non-null  float64\n",
      " 43  dst2src_stddev_piat_ms        74343 non-null  float64\n",
      " 44  dst2src_max_piat_ms           74343 non-null  int64  \n",
      " 45  bidirectional_syn_packets     74343 non-null  int64  \n",
      " 46  bidirectional_cwr_packets     74343 non-null  int64  \n",
      " 47  bidirectional_ece_packets     74343 non-null  int64  \n",
      " 48  bidirectional_urg_packets     74343 non-null  int64  \n",
      " 49  bidirectional_ack_packets     74343 non-null  int64  \n",
      " 50  bidirectional_psh_packets     74343 non-null  int64  \n",
      " 51  bidirectional_rst_packets     74343 non-null  int64  \n",
      " 52  bidirectional_fin_packets     74343 non-null  int64  \n",
      " 53  src2dst_syn_packets           74343 non-null  int64  \n",
      " 54  src2dst_cwr_packets           74343 non-null  int64  \n",
      " 55  src2dst_ece_packets           74343 non-null  int64  \n",
      " 56  src2dst_urg_packets           74343 non-null  int64  \n",
      " 57  src2dst_ack_packets           74343 non-null  int64  \n",
      " 58  src2dst_psh_packets           74343 non-null  int64  \n",
      " 59  src2dst_rst_packets           74343 non-null  int64  \n",
      " 60  src2dst_fin_packets           74343 non-null  int64  \n",
      " 61  dst2src_syn_packets           74343 non-null  int64  \n",
      " 62  dst2src_cwr_packets           74343 non-null  int64  \n",
      " 63  dst2src_ece_packets           74343 non-null  int64  \n",
      " 64  dst2src_urg_packets           74343 non-null  int64  \n",
      " 65  dst2src_ack_packets           74343 non-null  int64  \n",
      " 66  dst2src_psh_packets           74343 non-null  int64  \n",
      " 67  dst2src_rst_packets           74343 non-null  int64  \n",
      " 68  dst2src_fin_packets           74343 non-null  int64  \n",
      " 69  application_name              74343 non-null  object \n",
      " 70  application_category_name     74343 non-null  object \n",
      " 71  application_is_guessed        74343 non-null  int64  \n",
      " 72  application_confidence        74343 non-null  int64  \n",
      " 73  requested_server_name         74343 non-null  object \n",
      " 74  client_fingerprint            74343 non-null  object \n",
      " 75  server_fingerprint            74336 non-null  object \n",
      " 76  user_agent                    74125 non-null  object \n",
      " 77  content_type                  74125 non-null  object \n",
      " 78  Label                         74343 non-null  object \n",
      "dtypes: float64(18), int64(53), object(8)\n",
      "memory usage: 44.8+ MB\n",
      "None\n"
     ]
    }
   ],
   "source": [
    "# Mostramos información general del DataFrame\n",
    "print(\"\\nInformación general del DataFrame:\")\n",
    "print(df.info())"
   ]
  },
  {
   "cell_type": "markdown",
   "id": "0360749b",
   "metadata": {},
   "source": [
    "### Generando el modelo"
   ]
  },
  {
   "cell_type": "markdown",
   "id": "86de0977",
   "metadata": {},
   "source": [
    "Para entrenar nuestro modelo primero se va a dividir el DataFrame en dos partes: una para entrenamiento y otra para prueba.\n",
    "Ademas nuestro data set tiene una dimensioalidad muy alta usualmente seria bueno realizar PCA, pues sino tendremos la famosa maldicion de la dimensionalidad, sin embargo utilzaremos una tecnica de machine learning de deep learning que no es tan sensible a la dimensionalidad, por lo que no realizaremos PCA."
   ]
  },
  {
   "cell_type": "code",
   "execution_count": 6,
   "id": "2b4970ce",
   "metadata": {},
   "outputs": [],
   "source": [
    "from sklearn.preprocessing import LabelEncoder, StandardScaler\n",
    "from sklearn.model_selection import train_test_split\n",
    "\n",
    "le = LabelEncoder()\n",
    "df['Label'] = le.fit_transform(df['Label'])  # 0: normal, 1: arp_spoofing\n",
    "\n",
    "cat_cols = list(df.select_dtypes(include='object').columns)\n",
    "df = pd.get_dummies(df, columns=cat_cols)\n",
    "\n",
    "\n",
    "# Separar X e y\n",
    "X = df.drop('Label', axis=1)\n",
    "y = df['Label']\n",
    "\n",
    "# Escalar (normalizar) los datos numéricos\n",
    "scaler = StandardScaler()\n",
    "X_scaled = scaler.fit_transform(X)\n",
    "\n",
    "# Dividir en entrenamiento y prueba\n",
    "X_train, X_test, y_train, y_test = train_test_split(X_scaled, y, test_size=0.2, random_state=42, stratify=y)"
   ]
  },
  {
   "cell_type": "markdown",
   "id": "73a8b8b1",
   "metadata": {},
   "source": [
    "En el anterior pedazo de codio preparamos los datos, al haber muchos valores como string los pasamos a valores numericos, y luego los normalizamos, para que todos los valores esten en el mismo rango, y luego dividimos el dataset en dos partes, una para entrenamiento y otra para prueba. Ademas de los datos Y osea las etiquetas que nos indican si es un ataque o no. Lo que significa que estamos realizando un modelo de clasificacion binaria, ademas de aprendizaje supervisado."
   ]
  },
  {
   "cell_type": "code",
   "execution_count": 7,
   "id": "ebd60167",
   "metadata": {},
   "outputs": [
    {
     "name": "stderr",
     "output_type": "stream",
     "text": [
      "2025-06-06 17:21:30.206695: I external/local_tsl/tsl/cuda/cudart_stub.cc:32] Could not find cuda drivers on your machine, GPU will not be used.\n",
      "2025-06-06 17:21:30.296105: I external/local_tsl/tsl/cuda/cudart_stub.cc:32] Could not find cuda drivers on your machine, GPU will not be used.\n",
      "2025-06-06 17:21:30.590013: I tensorflow/core/platform/cpu_feature_guard.cc:210] This TensorFlow binary is optimized to use available CPU instructions in performance-critical operations.\n",
      "To enable the following instructions: AVX2 FMA, in other operations, rebuild TensorFlow with the appropriate compiler flags.\n",
      "2025-06-06 17:21:31.477608: W tensorflow/compiler/tf2tensorrt/utils/py_utils.cc:38] TF-TRT Warning: Could not find TensorRT\n"
     ]
    },
    {
     "name": "stdout",
     "output_type": "stream",
     "text": [
      "GPUs disponibles: []\n"
     ]
    },
    {
     "name": "stderr",
     "output_type": "stream",
     "text": [
      "2025-06-06 17:21:32.253780: I external/local_xla/xla/stream_executor/cuda/cuda_executor.cc:984] could not open file to read NUMA node: /sys/bus/pci/devices/0000:08:00.0/numa_node\n",
      "Your kernel may have been built without NUMA support.\n",
      "2025-06-06 17:21:32.254209: W tensorflow/core/common_runtime/gpu/gpu_device.cc:2251] Cannot dlopen some GPU libraries. Please make sure the missing libraries mentioned above are installed properly if you would like to use GPU. Follow the guide at https://www.tensorflow.org/install/gpu for how to download and setup the required libraries for your platform.\n",
      "Skipping registering GPU devices...\n"
     ]
    }
   ],
   "source": [
    "import tensorflow as tf\n",
    "from tensorflow.keras import layers, models\n",
    "\n",
    "gpus = tf.config.list_physical_devices('GPU')\n",
    "print(\"GPUs disponibles:\", gpus)\n",
    "if gpus:\n",
    "    device_name = '/GPU:0'\n",
    "else:\n",
    "    device_name = '/CPU:0'"
   ]
  },
  {
   "cell_type": "code",
   "execution_count": 11,
   "id": "15401449",
   "metadata": {},
   "outputs": [
    {
     "name": "stdout",
     "output_type": "stream",
     "text": [
      "Epoch 1/100\n",
      "\u001b[1m1487/1487\u001b[0m \u001b[32m━━━━━━━━━━━━━━━━━━━━\u001b[0m\u001b[37m\u001b[0m \u001b[1m4s\u001b[0m 2ms/step - accuracy: 0.8300 - loss: 0.3964 - val_accuracy: 0.9004 - val_loss: 0.2329\n",
      "Epoch 2/100\n",
      "\u001b[1m1487/1487\u001b[0m \u001b[32m━━━━━━━━━━━━━━━━━━━━\u001b[0m\u001b[37m\u001b[0m \u001b[1m3s\u001b[0m 2ms/step - accuracy: 0.9140 - loss: 0.2079 - val_accuracy: 0.9147 - val_loss: 0.2124\n",
      "Epoch 3/100\n",
      "\u001b[1m1487/1487\u001b[0m \u001b[32m━━━━━━━━━━━━━━━━━━━━\u001b[0m\u001b[37m\u001b[0m \u001b[1m3s\u001b[0m 2ms/step - accuracy: 0.9294 - loss: 0.1732 - val_accuracy: 0.9201 - val_loss: 0.2012\n",
      "Epoch 4/100\n",
      "\u001b[1m1487/1487\u001b[0m \u001b[32m━━━━━━━━━━━━━━━━━━━━\u001b[0m\u001b[37m\u001b[0m \u001b[1m3s\u001b[0m 2ms/step - accuracy: 0.9378 - loss: 0.1520 - val_accuracy: 0.9222 - val_loss: 0.2034\n",
      "Epoch 5/100\n",
      "\u001b[1m1487/1487\u001b[0m \u001b[32m━━━━━━━━━━━━━━━━━━━━\u001b[0m\u001b[37m\u001b[0m \u001b[1m4s\u001b[0m 2ms/step - accuracy: 0.9437 - loss: 0.1346 - val_accuracy: 0.9227 - val_loss: 0.2216\n",
      "Epoch 6/100\n",
      "\u001b[1m1487/1487\u001b[0m \u001b[32m━━━━━━━━━━━━━━━━━━━━\u001b[0m\u001b[37m\u001b[0m \u001b[1m4s\u001b[0m 2ms/step - accuracy: 0.9449 - loss: 0.1325 - val_accuracy: 0.9241 - val_loss: 0.2506\n",
      "Epoch 7/100\n",
      "\u001b[1m1487/1487\u001b[0m \u001b[32m━━━━━━━━━━━━━━━━━━━━\u001b[0m\u001b[37m\u001b[0m \u001b[1m3s\u001b[0m 2ms/step - accuracy: 0.9500 - loss: 0.1204 - val_accuracy: 0.9268 - val_loss: 0.2252\n",
      "Epoch 8/100\n",
      "\u001b[1m1487/1487\u001b[0m \u001b[32m━━━━━━━━━━━━━━━━━━━━\u001b[0m\u001b[37m\u001b[0m \u001b[1m3s\u001b[0m 2ms/step - accuracy: 0.9514 - loss: 0.1174 - val_accuracy: 0.9255 - val_loss: 0.2373\n",
      "Epoch 9/100\n",
      "\u001b[1m1487/1487\u001b[0m \u001b[32m━━━━━━━━━━━━━━━━━━━━\u001b[0m\u001b[37m\u001b[0m \u001b[1m3s\u001b[0m 2ms/step - accuracy: 0.9544 - loss: 0.1065 - val_accuracy: 0.9252 - val_loss: 0.2307\n",
      "Epoch 10/100\n",
      "\u001b[1m1487/1487\u001b[0m \u001b[32m━━━━━━━━━━━━━━━━━━━━\u001b[0m\u001b[37m\u001b[0m \u001b[1m3s\u001b[0m 2ms/step - accuracy: 0.9554 - loss: 0.1049 - val_accuracy: 0.9277 - val_loss: 0.2632\n",
      "Epoch 11/100\n",
      "\u001b[1m1487/1487\u001b[0m \u001b[32m━━━━━━━━━━━━━━━━━━━━\u001b[0m\u001b[37m\u001b[0m \u001b[1m3s\u001b[0m 2ms/step - accuracy: 0.9566 - loss: 0.1019 - val_accuracy: 0.9271 - val_loss: 0.2938\n",
      "Epoch 12/100\n",
      "\u001b[1m1487/1487\u001b[0m \u001b[32m━━━━━━━━━━━━━━━━━━━━\u001b[0m\u001b[37m\u001b[0m \u001b[1m3s\u001b[0m 2ms/step - accuracy: 0.9580 - loss: 0.0974 - val_accuracy: 0.9280 - val_loss: 0.2654\n",
      "Epoch 13/100\n",
      "\u001b[1m1487/1487\u001b[0m \u001b[32m━━━━━━━━━━━━━━━━━━━━\u001b[0m\u001b[37m\u001b[0m \u001b[1m3s\u001b[0m 2ms/step - accuracy: 0.9606 - loss: 0.0960 - val_accuracy: 0.9273 - val_loss: 0.2728\n"
     ]
    }
   ],
   "source": [
    "from tensorflow.keras.callbacks import EarlyStopping\n",
    "\n",
    "with tf.device(device_name):\n",
    "    # Definir el modelo\n",
    "    model = models.Sequential([\n",
    "        layers.Input(shape=(X_train.shape[1],)),  # número de características\n",
    "        layers.Dense(64, activation='relu'),\n",
    "        layers.Dropout(0.3),\n",
    "        layers.Dense(32, activation='relu'),\n",
    "        layers.Dense(1, activation='sigmoid')  # clasificación binaria\n",
    "    ])\n",
    "\n",
    "    # Compilar el modelo\n",
    "    model.compile(optimizer='adam',\n",
    "                  loss='binary_crossentropy',\n",
    "                  metrics=['accuracy'])\n",
    "\n",
    "    # Entrenar el modelo\n",
    "    early_stop = EarlyStopping(monitor='val_loss', patience=10, restore_best_weights=True)\n",
    "\n",
    "    history = model.fit(X_train, y_train, epochs=100, batch_size=32,\n",
    "                        validation_split=0.2, callbacks=[early_stop])"
   ]
  },
  {
   "cell_type": "markdown",
   "id": "7a1bf218",
   "metadata": {},
   "source": [
    "Despues de entrenar el modelo, se evaluara su rendimiento con el conjunto de prueba y se mostrara la matriz de confusión.\\\n",
    "Ademas en el entrenamiento vimos que el modelo necesita de pocos epoch para aprender pues despues de los 13 epochs ya cuenta con buena precision y mas alla el modelo estaria realizando overfitting, por lo que se detendra el entrenamiento en el epoch 13."
   ]
  },
  {
   "cell_type": "code",
   "execution_count": 12,
   "id": "61514b00",
   "metadata": {},
   "outputs": [
    {
     "data": {
      "image/png": "[encoded data removed]",
      "text/plain": [
       "<Figure size 1400x500 with 2 Axes>"
      ]
     },
     "metadata": {},
     "output_type": "display_data"
    }
   ],
   "source": [
    "import matplotlib.pyplot as plt\n",
    "\n",
    "# Extraer datos del entrenamiento\n",
    "acc = history.history['accuracy']\n",
    "val_acc = history.history['val_accuracy']\n",
    "loss = history.history['loss']\n",
    "val_loss = history.history['val_loss']\n",
    "epochs = range(1, len(acc) + 1)\n",
    "\n",
    "# Graficar precisión\n",
    "plt.figure(figsize=(14, 5))\n",
    "\n",
    "plt.subplot(1, 2, 1)\n",
    "plt.plot(epochs, acc, label='Precisión en entrenamiento')\n",
    "plt.plot(epochs, val_acc, label='Precisión en validación')\n",
    "plt.title('Precisión del modelo')\n",
    "plt.xlabel('Épocas')\n",
    "plt.ylabel('Precisión')\n",
    "plt.legend()\n",
    "\n",
    "# Graficar pérdida\n",
    "plt.subplot(1, 2, 2)\n",
    "plt.plot(epochs, loss, label='Pérdida en entrenamiento')\n",
    "plt.plot(epochs, val_loss, label='Pérdida en validación')\n",
    "plt.title('Pérdida del modelo')\n",
    "plt.xlabel('Épocas')\n",
    "plt.ylabel('Pérdida')\n",
    "plt.legend()\n",
    "\n",
    "plt.tight_layout()\n",
    "plt.show()\n"
   ]
  },
  {
   "cell_type": "markdown",
   "id": "2aab04ae",
   "metadata": {},
   "source": [
    "### Conclusión del Modelo de Detección de ARP Spoofing\n",
    "\n",
    "Tras el proceso de entrenamiento y evaluación del modelo de clasificación, se observa un rendimiento positivo en la tarea de detección de ataques ARP Spoofing. El modelo alcanzó una **precisión en entrenamiento superior al 96%** y una **precisión en validación cercana al 93%**, lo que indica una capacidad significativa para generalizar el aprendizaje a nuevos datos no vistos.\n",
    "\n",
    "En cuanto a la función de pérdida, se evidencia una **disminución progresiva en el conjunto de entrenamiento**, lo cual es esperable y deseable. Sin embargo, la pérdida en validación muestra un comportamiento más inestable a partir de ciertas épocas (aumento tras la época 6–7), lo cual podría indicar un inicio de **sobreajuste (overfitting)**. A pesar de ello, la diferencia entre la precisión de entrenamiento y validación no es excesiva, por lo que el modelo aún conserva una buena capacidad de generalización.\n",
    "\n",
    "El conjunto de datos utilizado, específicamente diseñado para ataques de tipo ARP Spoofing, permitió entrenar el modelo con una proporción adecuada de muestras representativas, lo que favoreció la detección precisa de patrones anómalos asociados a este tipo de ataque de red.\n",
    "\n",
    "En resumen, el modelo desarrollado presenta un desempeño sólido y puede ser utilizado como herramienta base para sistemas de detección temprana de ataques ARP Spoofing.\n"
   ]
  }
 ],
 "metadata": {
  "kernelspec": {
   "display_name": ".venv",
   "language": "python",
   "name": "python3"
  },
  "language_info": {
   "codemirror_mode": {
    "name": "ipython",
    "version": 3
   },
   "file_extension": ".py",
   "mimetype": "text/x-python",
   "name": "python",
   "nbconvert_exporter": "python",
   "pygments_lexer": "ipython3",
   "version": "3.11.13"
  }
 },
 "nbformat": 4,
 "nbformat_minor": 5
}
